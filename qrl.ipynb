{
  "nbformat": 4,
  "nbformat_minor": 0,
  "metadata": {
    "colab": {
      "name": "qrl.ipynb",
      "provenance": [],
      "collapsed_sections": [],
      "authorship_tag": "ABX9TyM50/8YKn6PyqHvs1Mvucmi",
      "include_colab_link": true
    },
    "kernelspec": {
      "name": "python3",
      "display_name": "Python 3"
    },
    "language_info": {
      "name": "python"
    }
  },
  "cells": [
    {
      "cell_type": "markdown",
      "metadata": {
        "id": "view-in-github",
        "colab_type": "text"
      },
      "source": [
        "<a href=\"https://colab.research.google.com/github/bogatovam/qrl/blob/main/qrl.ipynb\" target=\"_parent\"><img src=\"https://colab.research.google.com/assets/colab-badge.svg\" alt=\"Open In Colab\"/></a>"
      ]
    },
    {
      "cell_type": "code",
      "metadata": {
        "id": "_XmUsPPKVsr_",
        "colab": {
          "base_uri": "https://localhost:8080/"
        },
        "outputId": "c9c3974e-6fa1-47a3-88b7-a931af8e4be7"
      },
      "source": [
        "!pip install tensorflow-quantum -q\n",
        "!pip install gym -q\n",
        "!pip install qiskit -q\n",
        "!pip install pylatexenc -q\n",
        "!pip install mthree -q"
      ],
      "execution_count": null,
      "outputs": [
        {
          "output_type": "stream",
          "name": "stdout",
          "text": [
            "\u001b[K     |████████████████████████████████| 7.8 MB 4.5 MB/s \n",
            "\u001b[K     |████████████████████████████████| 90 kB 4.7 MB/s \n",
            "\u001b[K     |████████████████████████████████| 5.6 MB 2.1 MB/s \n",
            "\u001b[K     |████████████████████████████████| 1.3 MB 27.0 MB/s \n",
            "\u001b[K     |████████████████████████████████| 100 kB 7.1 MB/s \n",
            "\u001b[K     |████████████████████████████████| 90 kB 7.0 MB/s \n",
            "\u001b[K     |████████████████████████████████| 1.5 MB 40.8 MB/s \n",
            "\u001b[K     |████████████████████████████████| 380 kB 26.4 MB/s \n",
            "\u001b[K     |████████████████████████████████| 93 kB 1.3 MB/s \n",
            "\u001b[K     |████████████████████████████████| 93 kB 695 kB/s \n",
            "\u001b[K     |████████████████████████████████| 93 kB 643 kB/s \n",
            "\u001b[K     |████████████████████████████████| 93 kB 1.0 MB/s \n",
            "\u001b[K     |████████████████████████████████| 93 kB 997 kB/s \n",
            "\u001b[K     |████████████████████████████████| 93 kB 174 kB/s \n",
            "\u001b[K     |████████████████████████████████| 93 kB 630 kB/s \n",
            "\u001b[K     |████████████████████████████████| 93 kB 914 kB/s \n",
            "\u001b[K     |████████████████████████████████| 92 kB 874 kB/s \n",
            "\u001b[K     |████████████████████████████████| 93 kB 589 kB/s \n",
            "\u001b[K     |████████████████████████████████| 93 kB 596 kB/s \n",
            "\u001b[K     |████████████████████████████████| 92 kB 496 kB/s \n",
            "\u001b[K     |████████████████████████████████| 92 kB 437 kB/s \n",
            "\u001b[K     |████████████████████████████████| 92 kB 102 kB/s \n",
            "\u001b[K     |████████████████████████████████| 92 kB 69 kB/s \n",
            "\u001b[K     |████████████████████████████████| 92 kB 4.5 MB/s \n",
            "\u001b[K     |████████████████████████████████| 91 kB 7.8 MB/s \n",
            "\u001b[K     |████████████████████████████████| 91 kB 8.2 MB/s \n",
            "\u001b[K     |████████████████████████████████| 91 kB 7.2 MB/s \n",
            "\u001b[K     |████████████████████████████████| 91 kB 6.7 MB/s \n",
            "\u001b[K     |████████████████████████████████| 91 kB 8.3 MB/s \n",
            "\u001b[K     |████████████████████████████████| 91 kB 7.8 MB/s \n",
            "\u001b[K     |████████████████████████████████| 91 kB 7.7 MB/s \n",
            "\u001b[K     |████████████████████████████████| 6.4 MB 4.4 MB/s \n",
            "\u001b[K     |████████████████████████████████| 18.0 MB 447 kB/s \n",
            "\u001b[K     |████████████████████████████████| 238 kB 71.3 MB/s \n",
            "\u001b[K     |████████████████████████████████| 200 kB 27.6 MB/s \n",
            "\u001b[K     |████████████████████████████████| 53 kB 1.6 MB/s \n",
            "\u001b[K     |████████████████████████████████| 1.4 MB 57.6 MB/s \n",
            "\u001b[K     |████████████████████████████████| 943 kB 55.2 MB/s \n",
            "\u001b[K     |████████████████████████████████| 49 kB 4.8 MB/s \n",
            "\u001b[K     |████████████████████████████████| 49 kB 4.9 MB/s \n",
            "\u001b[K     |████████████████████████████████| 38.2 MB 1.3 MB/s \n",
            "\u001b[K     |████████████████████████████████| 38.1 MB 1.2 MB/s \n",
            "\u001b[K     |████████████████████████████████| 3.6 MB 54.2 MB/s \n",
            "\u001b[K     |████████████████████████████████| 112 kB 39.1 MB/s \n",
            "\u001b[?25h  Building wheel for qiskit (setup.py) ... \u001b[?25l\u001b[?25hdone\n",
            "  Building wheel for python-constraint (setup.py) ... \u001b[?25l\u001b[?25hdone\n",
            "\u001b[31mERROR: pip's dependency resolver does not currently take into account all the packages that are installed. This behaviour is the source of the following dependency conflicts.\n",
            "albumentations 0.1.12 requires imgaug<0.2.7,>=0.2.5, but you have imgaug 0.2.9 which is incompatible.\u001b[0m\n",
            "\u001b[K     |████████████████████████████████| 162 kB 5.1 MB/s \n",
            "\u001b[?25h  Building wheel for pylatexenc (setup.py) ... \u001b[?25l\u001b[?25hdone\n",
            "\u001b[K     |████████████████████████████████| 3.3 MB 5.1 MB/s \n",
            "\u001b[K     |████████████████████████████████| 247 kB 44.6 MB/s \n",
            "\u001b[?25h"
          ]
        }
      ]
    },
    {
      "cell_type": "code",
      "metadata": {
        "id": "0PhYPcvEuahn"
      },
      "source": [
        "import numpy as np\n",
        "\n",
        "# Importing standard Qiskit libraries\n",
        "from qiskit import QuantumCircuit, transpile, Aer, IBMQ\n",
        "from qiskit.tools.jupyter import *\n",
        "from qiskit.visualization import *\n",
        "from qiskit.providers.aer import QasmSimulator"
      ],
      "execution_count": null,
      "outputs": []
    },
    {
      "cell_type": "code",
      "metadata": {
        "id": "nWPqgqyOCg2R"
      },
      "source": [
        "import qiskit\n",
        "from numpy import pi\n",
        "import sympy"
      ],
      "execution_count": null,
      "outputs": []
    },
    {
      "cell_type": "code",
      "source": [
        "import numpy as np\n",
        "import matplotlib.pyplot as plt\n",
        "\n",
        "import torch\n",
        "from torch.autograd import Function\n",
        "from torchvision import datasets, transforms\n",
        "import torch.optim as optim\n",
        "import torch.nn as nn\n",
        "import torch.nn.functional as F\n",
        "\n",
        "import qiskit\n",
        "from qiskit import transpile, assemble\n",
        "from qiskit.visualization import *\n",
        "\n",
        "import mthree"
      ],
      "metadata": {
        "id": "YL7EijzaL77_"
      },
      "execution_count": null,
      "outputs": []
    },
    {
      "cell_type": "code",
      "source": [
        "#General imports\n",
        "import numpy as np\n",
        "\n",
        "#Operator Imports\n",
        "from qiskit.opflow import Z, X, I, StateFn, CircuitStateFn, SummedOp\n",
        "from qiskit.opflow.gradients import Gradient, NaturalGradient, QFI, Hessian\n",
        "\n",
        "#Circuit imports\n",
        "from qiskit.circuit import QuantumCircuit, QuantumRegister, Parameter, ParameterVector, ParameterExpression\n",
        "from qiskit.circuit.library import EfficientSU2"
      ],
      "metadata": {
        "id": "fcYVDaKjS3z8"
      },
      "execution_count": null,
      "outputs": []
    },
    {
      "cell_type": "markdown",
      "source": [
        "### Pytorch models"
      ],
      "metadata": {
        "id": "Gmw85CJIL1U_"
      }
    },
    {
      "cell_type": "code",
      "source": [
        "def one_qubit_rotation(circuit, qubit, symbols):\n",
        "    circuit.rx(symbols[0], qubit)\n",
        "    circuit.ry(symbols[1], qubit)\n",
        "    circuit.rz(symbols[2], qubit)\n",
        "\n",
        "def encoding_layer(circuit, qubit, symbol):\n",
        "   circuit.rx(symbol, qubit)\n",
        "\n",
        "def entangling_layer(circuit, qubits):\n",
        "    cz_ops = [circuit.cz(q0, q1) for q0, q1 in zip(qubits, qubits[1:])]\n",
        "    cz_ops += ([circuit.cz(qubits[0], qubits[-1])] if len(qubits) != 2 else [])\n",
        "    return cz_ops\n",
        "\n",
        "class QuantumCircuit:\n",
        "    \n",
        "    def __init__(self, n_qubits, n_layers, expectation_operators, backend, shots):\n",
        "        # ---------------------------\n",
        "        # Define circuit\n",
        "        # ---------------------------\n",
        "        qreg_q = qiskit.QuantumRegister(n_qubits, 'q')\n",
        "        self._circuit = qiskit.QuantumCircuit(qreg_q)\n",
        "\n",
        "        # Sympy symbols for variational angles\n",
        "        params_count = 3 * (n_layers + 1) * n_qubits\n",
        "        self._params = [f'theta{i}'for i in range(params_count)]\n",
        "        self._params = [qiskit.circuit.Parameter(param_name) for param_name in self._params]\n",
        "        self._params = np.asarray(self._params).reshape((n_layers + 1, n_qubits, 3))\n",
        "        \n",
        "        # Sympy symbols for encoding angles\n",
        "        self._inputs = [f'x{i}'+f'_{j}' for i in range(n_layers) for j in range(n_qubits)]\n",
        "        self._inputs = [qiskit.circuit.Parameter(param_name) for param_name in self._inputs]\n",
        "        self._inputs = np.asarray(self._inputs).reshape((n_layers, n_qubits))\n",
        "\n",
        "        for l in range(n_layers):\n",
        "          for i, q in enumerate(qreg_q): \n",
        "            one_qubit_rotation(self._circuit, q, self._params[l, i])\n",
        "\n",
        "          entangling_layer( self._circuit, qreg_q)\n",
        "\n",
        "          for i, q in enumerate(qreg_q):\n",
        "            encoding_layer( self._circuit, q, self._inputs[l, i])\n",
        "\n",
        "        # Last varitional layer\n",
        "        for i, q in enumerate(qreg_q):\n",
        "          one_qubit_rotation( self._circuit, q, self._params[n_layers, i])        \n",
        "\n",
        "        # self._circuit.measure_all()\n",
        "        # ---------------------------\n",
        "\n",
        "        self.backend = backend\n",
        "        self.shots = shots\n",
        "\n",
        "        self._inputs = list(self._inputs.flat)\n",
        "        self._params = list(self._params.flat)\n",
        "\n",
        "        self.H = Z^Z^Z^Z\n",
        "        self.op = ~StateFn(self.H) @ CircuitStateFn(primitive=self._circuit, coeff=1.)\n",
        "\n",
        "        self.theta_grad = Gradient(grad_method='param_shift').convert(operator=self.op, params=self._params)\n",
        "        self.input_grad = Gradient(grad_method='param_shift').convert(operator=self.op, params=self._inputs)\n",
        "    \n",
        "    def run(self, input, thetas):\n",
        "        t_qc = transpile(self._circuit, self.backend)\n",
        "        \n",
        "        parameter_binds = {}\n",
        "        parameter_binds.update({self._params[param_index]: param_value for param_index, param_value in enumerate(thetas)})\n",
        "        parameter_binds.update({self._inputs[param_index]: param_value for param_index, param_value in enumerate(input)})\n",
        "\n",
        "        return [self.op.assign_parameters(parameter_binds).eval().real]\n",
        "\n",
        "\n",
        "    def compute_theta_gradient(self, input, thetas):\n",
        "        parameter_binds = {}\n",
        "        parameter_binds.update({self._params[param_index]: param_value for param_index, param_value in enumerate(thetas)})\n",
        "        parameter_binds.update({self._inputs[param_index]: param_value for param_index, param_value in enumerate(input)})\n",
        "\n",
        "        return self.theta_grad.assign_parameters(parameter_binds).eval()\n",
        "\n",
        "\n",
        "    def compute_input_gradient(self, input, thetas):\n",
        "        parameter_binds = {}\n",
        "        parameter_binds.update({self._params[param_index]: param_value for param_index, param_value in enumerate(thetas)})\n",
        "        parameter_binds.update({self._inputs[param_index]: param_value for param_index, param_value in enumerate(input)})\n",
        "\n",
        "        return self.input_grad.assign_parameters(parameter_binds).eval()"
      ],
      "metadata": {
        "id": "rOPvaZYpL8fF"
      },
      "execution_count": null,
      "outputs": []
    },
    {
      "cell_type": "code",
      "source": [
        "simulator = qiskit.Aer.get_backend('aer_simulator')\n",
        "test_n_qubits = 3\n",
        "test_n_layers = 3\n",
        "circuit = QuantumCircuit(test_n_qubits, test_n_layers, ['ZZZ'], simulator, 100)\n",
        "print('Expected value for rotation pi {}'.format(circuit.run(np.ones(test_n_qubits * test_n_layers), np.ones(3 * (test_n_layers + 1) * test_n_qubits))))\n",
        "circuit._circuit.draw(output='mpl')"
      ],
      "metadata": {
        "colab": {
          "base_uri": "https://localhost:8080/",
          "height": 142
        },
        "id": "rJuSa4Pa2rMV",
        "outputId": "0a9f70e8-eafb-43fb-b9e0-58b5204c4069"
      },
      "execution_count": null,
      "outputs": [
        {
          "output_type": "stream",
          "name": "stdout",
          "text": [
            "Expected value for rotation pi [0.12024114903873634]\n"
          ]
        },
        {
          "output_type": "execute_result",
          "data": {
            "image/png": "[encoded data removed]",
            "text/plain": [
              "<Figure size 1531.4x204.68 with 1 Axes>"
            ]
          },
          "metadata": {},
          "execution_count": 20
        }
      ]
    },
    {
      "cell_type": "code",
      "source": [
        "from qiskit.opflow import Z, X, I, StateFn, CircuitStateFn, SummedOp\n",
        "from qiskit.opflow.gradients import Gradient, NaturalGradient, QFI, Hessian\n",
        "\n",
        "class HybridFunction(Function):\n",
        "    \n",
        "    @staticmethod\n",
        "    def forward(ctx, input, thetas, quantum_circuit, shift):\n",
        "        \n",
        "        ctx.shift = shift\n",
        "        ctx.quantum_circuit = quantum_circuit\n",
        "\n",
        "        batch = input.shape[0]\n",
        "        expectations = []\n",
        "        for i in range(batch):\n",
        "          expectation_z = ctx.quantum_circuit.run(input[i].tolist(), thetas[i].tolist())\n",
        "          expectations.append(expectation_z)\n",
        "          \n",
        "        ctx.save_for_backward(input, torch.tensor(expectations), thetas)\n",
        "        return torch.tensor(expectations)\n",
        "        \n",
        "    @staticmethod\n",
        "    def backward(ctx, grad_output):\n",
        "        input, expectation_z, thetas = ctx.saved_tensors\n",
        "\n",
        "        gradients = []\n",
        "        input_gradients = []\n",
        "        for i in range(input.shape[0]):\n",
        "            gradient = ctx.quantum_circuit.compute_theta_gradient(input[i].tolist(), thetas[i].tolist())\n",
        "            input_gradient = ctx.quantum_circuit.compute_input_gradient(input[i].tolist(), thetas[i].tolist())\n",
        "            gradients.append(gradient)\n",
        "            input_gradients.append(input_gradient)\n",
        "\n",
        "        return torch.tensor(input_gradients).float(), torch.tensor(gradients).float(), None, None\n",
        "\n",
        "\n",
        "class Hybrid(nn.Module):\n",
        "    \n",
        "    def __init__(self, n_qubits, n_layers, backend, shots, shift):\n",
        "        super(Hybrid, self).__init__()\n",
        "        \n",
        "        self.quantum_circuit = QuantumCircuit(n_qubits, n_layers, ['Z' * n_qubits], backend, shots)\n",
        "        self.shift = shift\n",
        "        \n",
        "    def forward(self, inputs, thetas):\n",
        "        return HybridFunction.apply(inputs, thetas, self.quantum_circuit, self.shift)\n",
        "\n",
        "\n",
        "class ReUploadingPQC(nn.Module):\n",
        "    \n",
        "    def __init__(self, n_qubits, n_layers, backend, shots, shift, use_activation = True):\n",
        "        super(ReUploadingPQC, self).__init__()\n",
        "\n",
        "        self._thetas_count = 3 * (n_layers + 1) * n_qubits\n",
        "        self._x_count = n_layers * n_qubits\n",
        "        self.n_layers = n_layers\n",
        "\n",
        "        self.quantum_layer = Hybrid(n_qubits, n_layers, backend, shots, shift)\n",
        "        self.thetas = nn.init.xavier_normal_(torch.empty(1, self._thetas_count, requires_grad=True))\n",
        "        self.lmbd = torch.ones(self._x_count, requires_grad=True)\n",
        "\n",
        "        self.thetas = torch.nn.Parameter(self.thetas)\n",
        "        self.lmbd = torch.nn.Parameter(self.lmbd, requires_grad=True)\n",
        "\n",
        "        self._use_activation = use_activation\n",
        "        self._activation = nn.ReLU()\n",
        "        \n",
        "    def forward(self, inputs):\n",
        "        tiled_up_inputs = torch.tile(inputs, [1, self.n_layers])\n",
        "        tiled_up_thetas = torch.tile(self.thetas, [inputs.shape[0], 1])\n",
        "\n",
        "        scaled_inputs = torch.einsum(\"i,ji->ji\", self.lmbd, tiled_up_inputs)\n",
        "\n",
        "        x = self.quantum_layer(scaled_inputs, tiled_up_thetas)\n",
        "        return x\n",
        "\n",
        "\n",
        "class Alternating(nn.Module):\n",
        "    \n",
        "    def __init__(self,output_dim):\n",
        "        super(Alternating, self).__init__()\n",
        "\n",
        "        self.w = torch.tensor([[(-1.)**i for i in range(output_dim)]], requires_grad=True,dtype=torch.float64)\n",
        "        self.w = torch.nn.Parameter(self.w)\n",
        "        \n",
        "    def forward(self, inputs):\n",
        "        return torch.matmul(inputs, self.w)\n",
        "\n",
        "\n",
        "class LambdaLayer(nn.Module):\n",
        "    def __init__(self, lambd):\n",
        "        super(LambdaLayer, self).__init__()\n",
        "        self.lambd = lambd\n",
        "\n",
        "    def forward(self, x):\n",
        "        return self.lambd(x)"
      ],
      "metadata": {
        "id": "wJQl2LdJxgq1"
      },
      "execution_count": null,
      "outputs": []
    },
    {
      "cell_type": "code",
      "source": [
        "class QuantumPolicyModel(nn.Module):\n",
        "    def __init__(self, n_qubits, n_layers, n_actions, backend, beta=1.0):\n",
        "        super(QuantumPolicyModel, self).__init__()\n",
        "\n",
        "        self.re_uploading_pqc = ReUploadingPQC(n_qubits, n_layers, backend, 100, np.pi / 2)\n",
        "        self.alternating = Alternating(n_actions)\n",
        "        self.lambda_layer = LambdaLayer(lambda x: x * beta)\n",
        "        self.n_actions = n_actions\n",
        "\n",
        "    def forward(self, x):\n",
        "        x = self.re_uploading_pqc(x)\n",
        "        x = self.alternating(x)\n",
        "        x = F.softmax(self.lambda_layer(x), dim=1)\n",
        "        return x"
      ],
      "metadata": {
        "id": "ZB-Q26qOmCnt"
      },
      "execution_count": null,
      "outputs": []
    },
    {
      "cell_type": "markdown",
      "source": [
        "#### Functions for reinforsment"
      ],
      "metadata": {
        "id": "R27STlqVakiJ"
      }
    },
    {
      "cell_type": "code",
      "source": [
        "from collections import deque, defaultdict\n",
        "import gym, cirq, sympy\n",
        "\n",
        "def gather_episodes(state_bounds, n_actions, model, n_episodes, env_name):\n",
        "    \"\"\"Interact with environment in batched fashion.\"\"\"\n",
        "\n",
        "    trajectories = [defaultdict(list) for _ in range(n_episodes)]\n",
        "    envs = [gym.make(env_name) for _ in range(n_episodes)]\n",
        "\n",
        "    done = [False for _ in range(n_episodes)]\n",
        "    states = [e.reset() for e in envs]\n",
        "\n",
        "    while not all(done):\n",
        "        unfinished_ids = [i for i in range(n_episodes) if not done[i]]\n",
        "        normalized_states = [s/state_bounds for i, s in enumerate(states) if not done[i]]\n",
        "\n",
        "        for i, state in zip(unfinished_ids, normalized_states):\n",
        "            trajectories[i]['states'].append(state)\n",
        "\n",
        "        # Compute policy for all unfinished envs in parallel\n",
        "        states = torch.tensor(normalized_states)\n",
        "        action_probs = model(states)\n",
        "\n",
        "        # Store action and transition all environments to the next state\n",
        "        states = [None for i in range(n_episodes)]\n",
        "        for i, policy in zip(unfinished_ids, action_probs.tolist()):\n",
        "            action = np.random.choice(n_actions, p=policy)\n",
        "            states[i], reward, done[i], _ = envs[i].step(action)\n",
        "            trajectories[i]['actions'].append(action)\n",
        "            trajectories[i]['rewards'].append(reward)\n",
        "\n",
        "    return trajectories\n",
        "\n",
        "def compute_returns(rewards_history, gamma):\n",
        "    \"\"\"Compute discounted returns with discount factor `gamma`.\"\"\"\n",
        "    returns = []\n",
        "    discounted_sum = 0\n",
        "    for r in rewards_history[::-1]:\n",
        "        discounted_sum = r + gamma * discounted_sum\n",
        "        returns.insert(0, discounted_sum)\n",
        "\n",
        "    # Normalize them for faster and more stable learning\n",
        "    returns = np.array(returns)\n",
        "    returns = (returns - np.mean(returns)) / (np.std(returns) + 1e-8)\n",
        "    returns = returns.tolist()\n",
        "\n",
        "    return returns"
      ],
      "metadata": {
        "id": "EjiwjEcPsIax"
      },
      "execution_count": null,
      "outputs": []
    },
    {
      "cell_type": "markdown",
      "source": [
        "#### Train model"
      ],
      "metadata": {
        "id": "Quu74aRwa4x8"
      }
    },
    {
      "cell_type": "code",
      "source": [
        "import tensorflow as tensorflow"
      ],
      "metadata": {
        "id": "t4XVD8MPCsPM"
      },
      "execution_count": null,
      "outputs": []
    },
    {
      "cell_type": "code",
      "source": [
        "n_qubits = 4 # Dimension of the state vectors in CartPole\n",
        "n_layers = 5 # Number of layers in the PQC\n",
        "n_actions = 2 # Number of actions in CartPole\n",
        "\n",
        "quantum_model = QuantumPolicyModel(n_qubits, n_layers, n_actions, qiskit.Aer.get_backend('aer_simulator'))"
      ],
      "metadata": {
        "id": "Vjg_ahihkJW_"
      },
      "execution_count": null,
      "outputs": []
    },
    {
      "cell_type": "code",
      "source": [
        "state_bounds = np.array([2.4, 2.5, 0.21, 2.5])\n",
        "gamma = 1\n",
        "batch_size = 1\n",
        "n_episodes = 1000"
      ],
      "metadata": {
        "id": "xA9Igq5B7Dc6"
      },
      "execution_count": null,
      "outputs": []
    },
    {
      "cell_type": "code",
      "source": [
        "import functools \n",
        "import operator\n",
        "\n",
        "def gather_nd(params, indices):\n",
        "    '''\n",
        "    the input indices must be a 2d tensor in the form of [[a,b,..,c],...], \n",
        "    which represents the location of the elements.\n",
        "    '''\n",
        "    max_value = functools.reduce(operator.mul, list(params.size())) - 1\n",
        "    indices = indices.t().long()\n",
        "    ndim = indices.size(0)\n",
        "    idx = torch.zeros_like(indices[0]).long()\n",
        "    m = 1\n",
        "    \n",
        "    for i in range(ndim)[::-1]:\n",
        "        idx += indices[i] * m \n",
        "        m *= params.size(i)\n",
        "\n",
        "    idx[idx < 0] = 0\n",
        "    idx[idx > max_value] = 0\n",
        "    return torch.take(params, idx)"
      ],
      "metadata": {
        "id": "__PxQ-q-ygTI"
      },
      "execution_count": null,
      "outputs": []
    },
    {
      "cell_type": "code",
      "source": [
        "env_name = \"CartPole-v1\"\n",
        "optimizer = optim.Adam(quantum_model.parameters(), lr=0.05)\n",
        "\n",
        "def reinforce_update(states, actions, returns, model, optimizer):\n",
        "    optimizer.zero_grad()\n",
        "    states = torch.tensor(states)\n",
        "    actions = torch.tensor(actions)\n",
        "    returns = torch.tensor(returns)\n",
        "    \n",
        "    # print(f'states {states.shape}, actions {actions.shape}')\n",
        "    logits = model(states)\n",
        "    p_actions = gather_nd(logits, actions)\n",
        "    log_probs = torch.log(p_actions)\n",
        "    loss = torch.sum(-log_probs * returns) / batch_size\n",
        "    loss.backward()\n",
        "    optimizer.step()\n",
        "\n",
        "\n",
        "# Start training the agent\n",
        "episode_reward_history = []\n",
        "for batch in range(n_episodes // batch_size):\n",
        "    # Gather episodes\n",
        "    episodes = gather_episodes(state_bounds, n_actions, quantum_model, batch_size, env_name)\n",
        "\n",
        "    # Group states, actions and returns in numpy arrays\n",
        "    states = np.concatenate([ep['states'] for ep in episodes])\n",
        "    actions = np.concatenate([ep['actions'] for ep in episodes])\n",
        "    rewards = [ep['rewards'] for ep in episodes]\n",
        "    returns = np.concatenate([compute_returns(ep_rwds, gamma) for ep_rwds in rewards])\n",
        "    returns = np.array(returns, dtype=np.float32)\n",
        "\n",
        "    id_action_pairs = np.array([[i, a] for i, a in enumerate(actions)])\n",
        "\n",
        "    # Update model parameters.\n",
        "    reinforce_update(states, id_action_pairs, returns, quantum_model,optimizer)\n",
        "\n",
        "    # Store collected rewards\n",
        "    for ep_rwds in rewards:\n",
        "        episode_reward_history.append(np.sum(ep_rwds))\n",
        "\n",
        "    avg_rewards = np.mean(episode_reward_history[-10:])\n",
        "\n",
        "    print('Finished episode', (batch + 1) * batch_size,\n",
        "          'Average rewards: ', avg_rewards)\n",
        "\n",
        "    if avg_rewards >= 500.0:\n",
        "        break"
      ],
      "metadata": {
        "colab": {
          "base_uri": "https://localhost:8080/"
        },
        "id": "8coGwZLv6wW_",
        "outputId": "75b9c554-f7ac-47f6-a1f4-9a1338b7e544"
      },
      "execution_count": null,
      "outputs": [
        {
          "output_type": "stream",
          "name": "stderr",
          "text": [
            "/usr/local/lib/python3.7/dist-packages/ipykernel_launcher.py:36: UserWarning: Casting complex values to real discards the imaginary part (Triggered internally at  ../aten/src/ATen/native/Copy.cpp:244.)\n"
          ]
        },
        {
          "output_type": "stream",
          "name": "stdout",
          "text": [
            "Finished episode 1 Average rewards:  13.0\n",
            "Finished episode 2 Average rewards:  17.5\n",
            "Finished episode 3 Average rewards:  18.666666666666668\n",
            "Finished episode 4 Average rewards:  17.75\n",
            "Finished episode 5 Average rewards:  17.8\n",
            "Finished episode 6 Average rewards:  27.166666666666668\n",
            "Finished episode 7 Average rewards:  27.285714285714285\n",
            "Finished episode 8 Average rewards:  28.125\n",
            "Finished episode 9 Average rewards:  26.88888888888889\n",
            "Finished episode 10 Average rewards:  26.5\n",
            "Finished episode 11 Average rewards:  29.3\n",
            "Finished episode 12 Average rewards:  29.1\n",
            "Finished episode 13 Average rewards:  31.0\n",
            "Finished episode 14 Average rewards:  34.0\n",
            "Finished episode 15 Average rewards:  35.3\n",
            "Finished episode 16 Average rewards:  31.3\n",
            "Finished episode 17 Average rewards:  35.2\n",
            "Finished episode 18 Average rewards:  36.0\n",
            "Finished episode 19 Average rewards:  47.7\n",
            "Finished episode 20 Average rewards:  51.6\n",
            "Finished episode 21 Average rewards:  54.8\n",
            "Finished episode 22 Average rewards:  61.0\n",
            "Finished episode 23 Average rewards:  64.1\n",
            "Finished episode 24 Average rewards:  69.8\n",
            "Finished episode 25 Average rewards:  68.0\n",
            "Finished episode 26 Average rewards:  75.6\n",
            "Finished episode 27 Average rewards:  71.7\n",
            "Finished episode 28 Average rewards:  69.4\n",
            "Finished episode 29 Average rewards:  61.5\n",
            "Finished episode 30 Average rewards:  60.7\n",
            "Finished episode 31 Average rewards:  62.0\n",
            "Finished episode 32 Average rewards:  63.4\n",
            "Finished episode 33 Average rewards:  66.0\n",
            "Finished episode 34 Average rewards:  63.5\n",
            "Finished episode 35 Average rewards:  71.3\n",
            "Finished episode 36 Average rewards:  68.2\n",
            "Finished episode 37 Average rewards:  66.4\n",
            "Finished episode 38 Average rewards:  68.1\n",
            "Finished episode 39 Average rewards:  70.4\n",
            "Finished episode 40 Average rewards:  73.1\n",
            "Finished episode 41 Average rewards:  68.6\n",
            "Finished episode 42 Average rewards:  62.6\n",
            "Finished episode 43 Average rewards:  57.7\n",
            "Finished episode 44 Average rewards:  51.5\n",
            "Finished episode 45 Average rewards:  43.6\n",
            "Finished episode 46 Average rewards:  37.3\n",
            "Finished episode 47 Average rewards:  37.4\n",
            "Finished episode 48 Average rewards:  35.0\n",
            "Finished episode 49 Average rewards:  28.3\n",
            "Finished episode 50 Average rewards:  21.2\n",
            "Finished episode 51 Average rewards:  18.6\n",
            "Finished episode 52 Average rewards:  16.1\n",
            "Finished episode 53 Average rewards:  12.4\n",
            "Finished episode 54 Average rewards:  11.8\n",
            "Finished episode 55 Average rewards:  11.7\n",
            "Finished episode 56 Average rewards:  11.2\n",
            "Finished episode 57 Average rewards:  12.7\n",
            "Finished episode 58 Average rewards:  12.6\n",
            "Finished episode 59 Average rewards:  12.7\n",
            "Finished episode 60 Average rewards:  13.0\n",
            "Finished episode 61 Average rewards:  12.7\n",
            "Finished episode 62 Average rewards:  13.2\n",
            "Finished episode 63 Average rewards:  14.4\n",
            "Finished episode 64 Average rewards:  15.4\n",
            "Finished episode 65 Average rewards:  16.5\n",
            "Finished episode 66 Average rewards:  16.5\n",
            "Finished episode 67 Average rewards:  16.8\n",
            "Finished episode 68 Average rewards:  18.4\n",
            "Finished episode 69 Average rewards:  18.6\n",
            "Finished episode 70 Average rewards:  21.2\n",
            "Finished episode 71 Average rewards:  21.9\n",
            "Finished episode 72 Average rewards:  24.8\n",
            "Finished episode 73 Average rewards:  28.5\n",
            "Finished episode 74 Average rewards:  32.6\n",
            "Finished episode 75 Average rewards:  32.3\n",
            "Finished episode 76 Average rewards:  32.1\n",
            "Finished episode 77 Average rewards:  30.7\n",
            "Finished episode 78 Average rewards:  29.2\n",
            "Finished episode 79 Average rewards:  33.0\n",
            "Finished episode 80 Average rewards:  32.3\n",
            "Finished episode 81 Average rewards:  36.7\n",
            "Finished episode 82 Average rewards:  36.0\n",
            "Finished episode 83 Average rewards:  32.2\n",
            "Finished episode 84 Average rewards:  27.8\n",
            "Finished episode 85 Average rewards:  27.4\n",
            "Finished episode 86 Average rewards:  27.9\n",
            "Finished episode 87 Average rewards:  28.7\n",
            "Finished episode 88 Average rewards:  28.9\n",
            "Finished episode 89 Average rewards:  25.4\n",
            "Finished episode 90 Average rewards:  23.8\n",
            "Finished episode 91 Average rewards:  20.7\n",
            "Finished episode 92 Average rewards:  19.5\n",
            "Finished episode 93 Average rewards:  20.5\n",
            "Finished episode 94 Average rewards:  23.3\n",
            "Finished episode 95 Average rewards:  26.9\n",
            "Finished episode 96 Average rewards:  32.4\n",
            "Finished episode 97 Average rewards:  33.1\n",
            "Finished episode 98 Average rewards:  39.2\n",
            "Finished episode 99 Average rewards:  49.6\n",
            "Finished episode 100 Average rewards:  56.2\n",
            "Finished episode 101 Average rewards:  56.0\n",
            "Finished episode 102 Average rewards:  54.9\n",
            "Finished episode 103 Average rewards:  53.4\n",
            "Finished episode 104 Average rewards:  50.0\n",
            "Finished episode 105 Average rewards:  46.4\n",
            "Finished episode 106 Average rewards:  40.6\n",
            "Finished episode 107 Average rewards:  39.4\n",
            "Finished episode 108 Average rewards:  33.4\n",
            "Finished episode 109 Average rewards:  22.3\n",
            "Finished episode 110 Average rewards:  15.7\n",
            "Finished episode 111 Average rewards:  13.8\n",
            "Finished episode 112 Average rewards:  15.8\n",
            "Finished episode 113 Average rewards:  15.8\n",
            "Finished episode 114 Average rewards:  17.3\n",
            "Finished episode 115 Average rewards:  17.5\n",
            "Finished episode 116 Average rewards:  18.1\n",
            "Finished episode 117 Average rewards:  17.6\n",
            "Finished episode 118 Average rewards:  17.3\n",
            "Finished episode 119 Average rewards:  18.3\n",
            "Finished episode 120 Average rewards:  18.4\n",
            "Finished episode 121 Average rewards:  18.7\n",
            "Finished episode 122 Average rewards:  16.4\n",
            "Finished episode 123 Average rewards:  16.0\n",
            "Finished episode 124 Average rewards:  15.6\n"
          ]
        }
      ]
    },
    {
      "cell_type": "code",
      "source": [
        "env_name = \"CartPole-v1\"\n",
        "optimizer = optim.Adam(simple_model.parameters(), lr=0.01)\n",
        "\n",
        "def reinforce_update(states, actions, returns, model, optimizer):\n",
        "    # optimizer.zero_grad()\n",
        "    states = torch.tensor(states)\n",
        "    actions = torch.tensor(actions)\n",
        "    returns = torch.tensor(returns)\n",
        "    \n",
        "    # print(f'states {states.shape}, actions {actions.shape}')\n",
        "    logits = model(states)\n",
        "    p_actions = gather_nd(logits, actions)\n",
        "    log_probs = torch.log(p_actions)\n",
        "    loss = torch.sum(-log_probs * returns) / batch_size\n",
        "    loss.backward()\n",
        "    optimizer.step()\n",
        "\n",
        "\n",
        "# Start training the agent\n",
        "episode_reward_history = []\n",
        "for batch in range(n_episodes // batch_size):\n",
        "    # Gather episodes\n",
        "    episodes = gather_episodes(state_bounds, n_actions, simple_model, batch_size, env_name)\n",
        "\n",
        "    # Group states, actions and returns in numpy arrays\n",
        "    states = np.concatenate([ep['states'] for ep in episodes])\n",
        "    actions = np.concatenate([ep['actions'] for ep in episodes])\n",
        "    rewards = [ep['rewards'] for ep in episodes]\n",
        "    returns = np.concatenate([compute_returns(ep_rwds, gamma) for ep_rwds in rewards])\n",
        "    returns = np.array(returns, dtype=np.float32)\n",
        "\n",
        "    id_action_pairs = np.array([[i, a] for i, a in enumerate(actions)])\n",
        "\n",
        "    # Update model parameters.\n",
        "    reinforce_update(states, id_action_pairs, returns, simple_model, optimizer)\n",
        "\n",
        "    # Store collected rewards\n",
        "    for ep_rwds in rewards:\n",
        "        episode_reward_history.append(np.sum(ep_rwds))\n",
        "\n",
        "    avg_rewards = np.mean(episode_reward_history[-10:])\n",
        "\n",
        "    print('Finished episode', (batch + 1) * batch_size,\n",
        "          'Average rewards: ', avg_rewards)\n",
        "\n",
        "    if avg_rewards >= 1000.0:\n",
        "        break"
      ],
      "metadata": {
        "colab": {
          "base_uri": "https://localhost:8080/"
        },
        "outputId": "36dcdaeb-e7f7-497f-d33a-2c5944433741",
        "id": "wTOPnyeitttQ"
      },
      "execution_count": null,
      "outputs": [
        {
          "output_type": "stream",
          "name": "stdout",
          "text": [
            "Finished episode 1 Average rewards:  24.0\n",
            "Finished episode 2 Average rewards:  22.5\n",
            "Finished episode 3 Average rewards:  23.666666666666668\n",
            "Finished episode 4 Average rewards:  27.0\n",
            "Finished episode 5 Average rewards:  24.8\n",
            "Finished episode 6 Average rewards:  27.166666666666668\n",
            "Finished episode 7 Average rewards:  25.142857142857142\n",
            "Finished episode 8 Average rewards:  23.875\n",
            "Finished episode 9 Average rewards:  28.333333333333332\n",
            "Finished episode 10 Average rewards:  27.8\n",
            "Finished episode 11 Average rewards:  28.5\n",
            "Finished episode 12 Average rewards:  28.6\n",
            "Finished episode 13 Average rewards:  28.1\n",
            "Finished episode 14 Average rewards:  25.4\n",
            "Finished episode 15 Average rewards:  25.6\n",
            "Finished episode 16 Average rewards:  24.1\n",
            "Finished episode 17 Average rewards:  23.8\n",
            "Finished episode 18 Average rewards:  23.9\n",
            "Finished episode 19 Average rewards:  21.8\n",
            "Finished episode 20 Average rewards:  27.8\n",
            "Finished episode 21 Average rewards:  30.9\n",
            "Finished episode 22 Average rewards:  34.3\n",
            "Finished episode 23 Average rewards:  34.6\n",
            "Finished episode 24 Average rewards:  38.9\n",
            "Finished episode 25 Average rewards:  41.9\n",
            "Finished episode 26 Average rewards:  54.5\n",
            "Finished episode 27 Average rewards:  57.5\n",
            "Finished episode 28 Average rewards:  70.7\n",
            "Finished episode 29 Average rewards:  68.8\n",
            "Finished episode 30 Average rewards:  86.5\n",
            "Finished episode 31 Average rewards:  97.1\n",
            "Finished episode 32 Average rewards:  98.8\n",
            "Finished episode 33 Average rewards:  118.7\n",
            "Finished episode 34 Average rewards:  123.8\n",
            "Finished episode 35 Average rewards:  134.9\n",
            "Finished episode 36 Average rewards:  140.0\n",
            "Finished episode 37 Average rewards:  156.9\n",
            "Finished episode 38 Average rewards:  162.0\n",
            "Finished episode 39 Average rewards:  198.7\n",
            "Finished episode 40 Average rewards:  198.9\n",
            "Finished episode 41 Average rewards:  232.1\n",
            "Finished episode 42 Average rewards:  274.8\n",
            "Finished episode 43 Average rewards:  302.5\n",
            "Finished episode 44 Average rewards:  342.1\n",
            "Finished episode 45 Average rewards:  376.2\n",
            "Finished episode 46 Average rewards:  406.1\n",
            "Finished episode 47 Average rewards:  435.2\n",
            "Finished episode 48 Average rewards:  465.3\n",
            "Finished episode 49 Average rewards:  476.2\n",
            "Finished episode 50 Average rewards:  500.0\n"
          ]
        }
      ]
    },
    {
      "cell_type": "code",
      "source": [
        "plt.figure(figsize=(10,5))\n",
        "plt.plot(episode_reward_history)\n",
        "plt.xlabel('Epsiode')\n",
        "plt.ylabel('Collected rewards')\n",
        "plt.show()\n"
      ],
      "metadata": {
        "id": "D2Im_b5dc0SQ",
        "colab": {
          "base_uri": "https://localhost:8080/",
          "height": 334
        },
        "outputId": "69db996a-c68d-4820-8a59-83379f858ff1"
      },
      "execution_count": null,
      "outputs": [
        {
          "output_type": "display_data",
          "data": {
            "image/png": "[encoded data removed]",
            "text/plain": [
              "<Figure size 720x360 with 1 Axes>"
            ]
          },
          "metadata": {
            "needs_background": "light"
          }
        }
      ]
    }
  ]
}